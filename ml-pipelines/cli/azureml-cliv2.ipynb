{
  "cells": [
    {
      "attachments": {},
      "cell_type": "markdown",
      "source": [
        "For this workshop, you need:\n",
        "\n",
        "* An Azure Machine Learning workspace. \n",
        "* The Azure Machine Learning CLI v2 installed.\n",
        "\n",
        "To install the CLI you can either,\n",
        "\n",
        "Create a compute instance, which already has installed the latest AzureML CLI and is pre-configured for ML workflows.\n",
        "\n",
        "Use the followings commands to install Azure ML CLI v2:\n",
        "\n",
        "```bash\n",
        "az extension add --name ml\n",
        "az login --identity\n",
        "```\n",
        "\n"
      ],
      "metadata": {}
    },
    {
      "cell_type": "code",
      "source": [
        "!az extension add --name ml\r\n",
        "!az login --identity"
      ],
      "outputs": [
        {
          "output_type": "stream",
          "name": "stdout",
          "text": "\u001b[93mExtension 'ml' is already installed.\u001b[0m\n[\n  {\n    \"environmentName\": \"AzureCloud\",\n    \"homeTenantId\": \"4460d6c7-3cdd-4d85-bda4-87c85c98af04\",\n    \"id\": \"f9b97038-ed78-4a26-a1a7-51e81e75d867\",\n    \"isDefault\": true,\n    \"managedByTenants\": [\n      {\n        \"tenantId\": \"2f4a9838-26b7-47ee-be60-ccc1fdec5953\"\n      }\n    ],\n    \"name\": \"ME-MngEnv796115-eneros\",\n    \"state\": \"Enabled\",\n    \"tenantId\": \"4460d6c7-3cdd-4d85-bda4-87c85c98af04\",\n    \"user\": {\n      \"assignedIdentityInfo\": \"MSI\",\n      \"name\": \"systemAssignedIdentity\",\n      \"type\": \"servicePrincipal\"\n    }\n  }\n]\n"
        }
      ],
      "execution_count": 21,
      "metadata": {
        "jupyter": {
          "source_hidden": false,
          "outputs_hidden": false
        },
        "nteract": {
          "transient": {
            "deleting": false
          }
        }
      }
    },
    {
      "cell_type": "markdown",
      "source": [
        "# Model Training"
      ],
      "metadata": {
        "nteract": {
          "transient": {
            "deleting": false
          }
        },
        "tags": []
      }
    },
    {
      "attachments": {},
      "cell_type": "markdown",
      "source": [
        "## (Optional) 1. Create Managed Compute\n",
        "\n",
        "A compute is a designated compute resource where you run your job or host your endpoint. Azure Machine learning supports the following types of compute:\n",
        "\n",
        "- **Compute instance** - a fully configured and managed development environment in the cloud. You can use the instance as a training or inference compute for development and testing. It's similar to a virtual machine on the cloud.\n",
        "\n",
        "- **Compute cluster** - a managed-compute infrastructure that allows you to easily create a cluster of CPU or GPU compute nodes in the cloud.\n",
        "\n",
        "- **Kubernetes cluster** - used to deploy trained machine learning models to Azure Kubernetes Service. You can create an Azure Kubernetes Service (AKS) cluster from your Azure ML workspace, or attach an existing AKS cluster.\n",
        "\n",
        "- **Attached compute** - You can attach your own compute resources to your workspace and use them for training and inference.\n",
        "\n",
        "You can create a compute using the Studio, the cli and the sdk.\n",
        "\n",
        "<hr>\n",
        "\n",
        "We can create a **compute instance** with cli v2 or sdk v2 using the following syntax:\n",
        "\n",
        "<center>\n",
        "<img src=\"../../imgs/create_compute_instance.png\" width = \"700px\" alt=\"Create Compute Instance cli vs sdk\">\n",
        "</center>\n",
        "\n",
        "\n",
        "<hr>\n",
        "\n",
        "We can create a **compute cluster** with cli v2 or sdk v2 using the following syntax:\n",
        "\n",
        "<center>\n",
        "<img src=\"../../imgs/create_compute_cluster.png\" width = \"700px\" alt=\"Create Compute Instance cli vs sdk\">\n",
        "</center>\n",
        "\n",
        "\n",
        "Let's create a managed compute cluster for the training workload."
      ],
      "metadata": {
        "nteract": {
          "transient": {
            "deleting": false
          }
        },
        "tags": []
      }
    },
    {
      "cell_type": "markdown",
      "source": [
        "``` python\n",
        "# Create train job compute cluster\n",
        "!az ml compute create --file train/compute.yml\n",
        "```"
      ],
      "metadata": {}
    },
    {
      "attachments": {},
      "cell_type": "markdown",
      "source": [
        "## 2. Register Data Asset\n",
        "\n",
        "**Datastore** - Azure Machine Learning Datastores securely keep the connection information to your data storage on Azure, so you don't have to code it in your scripts.\n",
        "\n",
        "An Azure Machine Learning datastore is a **reference** to an **existing** storage account on Azure. The benefits of creating and using a datastore are:\n",
        "* A common and easy-to-use API to interact with different storage type. \n",
        "* Easier to discover useful datastores when working as a team.\n",
        "* When using credential-based access (service principal/SAS/key), the connection information is secured so you don't have to code it in your scripts.\n",
        "\n",
        "Supported Data Resources: \n",
        "\n",
        "* Azure Storage blob container\n",
        "* Azure Storage file share\n",
        "* Azure Data Lake Gen 1\n",
        "* Azure Data Lake Gen 2\n",
        "\n",
        "\n",
        "It is not a requirement to use Azure Machine Learning datastores - you can use storage URIs directly assuming you have access to the underlying data.\n",
        "\n",
        "You can create a datastore using the Studio, the cli and the sdk.\n",
        "\n",
        "<hr>\n",
        "\n",
        "We can create a **datastore** with cli v2 or sdk v2 using the following syntax:\n",
        "\n",
        "<center>\n",
        "<img src=\"../../imgs/create_datastore.png\" width = \"700px\" alt=\"Create Datastore cli vs sdk\">\n",
        "</center>\n",
        "\n",
        "\n",
        "\n",
        "**Data asset** - Create data assets in your workspace to share with team members, version, and track data lineage.\n",
        "\n",
        "By creating a data asset, you create a reference to the data source location, along with a copy of its metadata. \n",
        "\n",
        "The benefits of creating data assets are:\n",
        "\n",
        "* You can **share and reuse data** with other members of the team such that they do not need to remember file locations.\n",
        "* You can **seamlessly access data** during model training (on any supported compute type) without worrying about connection strings or data paths.\n",
        "* You can **version** the data.\n",
        "\n",
        "<hr>\n",
        "\n",
        "We can create a **data asset** with cli v2 or sdk v2 using the following syntax:\n",
        "\n",
        "<center>\n",
        "<img src=\"../../imgs/create_data_asset.png\" width = \"700px\" alt=\"Create Data Asset cli vs sdk\">\n",
        "</center>"
      ],
      "metadata": {
        "nteract": {
          "transient": {
            "deleting": false
          }
        },
        "tags": []
      }
    },
    {
      "cell_type": "code",
      "source": [
        "# Register data asset \n",
        "!az ml data create --file train/data.yml"
      ],
      "outputs": [
        {
          "output_type": "stream",
          "name": "stdout",
          "text": "{\r\n  \"creation_context\": {\r\n    \"created_at\": \"2023-03-21T04:54:21.776186+00:00\",\r\n    \"created_by\": \"Elena Neroslavskaya\",\r\n    \"created_by_type\": \"User\",\r\n    \"last_modified_at\": \"2023-03-21T04:54:21.814114+00:00\"\r\n  },\r\n  \"description\": \"taxi dataset\",\r\n  \"id\": \"/subscriptions/f9b97038-ed78-4a26-a1a7-51e81e75d867/resourceGroups/openaml/providers/Microsoft.MachineLearningServices/workspaces/nlp-workspace/data/taxi-data/versions/4\",\r\n  \"name\": \"taxi-data\",\r\n  \"path\": \"azureml://subscriptions/f9b97038-ed78-4a26-a1a7-51e81e75d867/resourcegroups/openaml/workspaces/nlp-workspace/datastores/workspaceblobstore/paths/LocalUpload/9292ec840b5d1db6306dba71da69ab7f/taxi-data.csv\",\r\n  \"properties\": {},\r\n  \"resourceGroup\": \"openaml\",\r\n  \"tags\": {},\r\n  \"type\": \"uri_file\",\r\n  \"version\": \"4\"\r\n}\r\n\u001b[0m"
        }
      ],
      "execution_count": 2,
      "metadata": {
        "collapsed": false,
        "gather": {
          "logged": 1679374462426
        },
        "jupyter": {
          "outputs_hidden": false,
          "source_hidden": false
        },
        "nteract": {
          "transient": {
            "deleting": false
          }
        }
      }
    },
    {
      "cell_type": "markdown",
      "source": [
        "## 3. Register Train Environment\n",
        "\n",
        "Azure Machine Learning environments define the execution environments for your **jobs** or **deployments** and encapsulate the dependencies for your code. \n",
        "\n",
        "Azure ML uses the environment specification to create the Docker container that your **training** or **scoring code** runs in on the specified compute target.\n",
        "\n",
        "Create an environment from a\n",
        "* conda specification\n",
        "* Docker image\n",
        "* Docker build context\n",
        "\n",
        "There are two types of environments in Azure ML: **curated** and **custom environments**. Curated environments are predefined environments containing popular ML frameworks and tooling. Custom environments are user-defined.\n",
        "\n",
        "<hr>\n",
        "\n",
        "We can register an **environment** with cli v2 or sdk v2 using the following syntax:\n",
        "\n",
        "<center>\n",
        "<img src=\"../../imgs/create_environment.png\" width = \"700px\" alt=\"Create Environment cli vs sdk\">\n",
        "</center>"
      ],
      "metadata": {
        "nteract": {
          "transient": {
            "deleting": false
          }
        }
      }
    },
    {
      "cell_type": "code",
      "source": [
        "# Register train environment \n",
        "!az ml environment create --file train/environment.yml"
      ],
      "outputs": [
        {
          "output_type": "stream",
          "name": "stdout",
          "text": "{\r\n  \"conda_file\": {\r\n    \"channels\": [\r\n      \"defaults\",\r\n      \"anaconda\",\r\n      \"conda-forge\"\r\n    ],\r\n    \"dependencies\": [\r\n      \"python=3.7.5\",\r\n      \"pip\",\r\n      {\r\n        \"pip\": [\r\n          \"azureml-mlflow==1.38.0\",\r\n          \"azure-ai-ml==1.0.0\",\r\n          \"pyarrow==10.0.0\",\r\n          \"ruamel.yaml==0.17.21\",\r\n          \"scikit-learn==0.24.1\",\r\n          \"pandas==1.2.1\",\r\n          \"joblib==1.0.0\",\r\n          \"matplotlib==3.3.3\"\r\n        ]\r\n      }\r\n    ]\r\n  },\r\n  \"creation_context\": {\r\n    \"created_at\": \"2023-03-21T04:54:37.103365+00:00\",\r\n    \"created_by\": \"Elena Neroslavskaya\",\r\n    \"created_by_type\": \"User\",\r\n    \"last_modified_at\": \"2023-03-21T04:54:37.103365+00:00\",\r\n    \"last_modified_by\": \"Elena Neroslavskaya\",\r\n    \"last_modified_by_type\": \"User\"\r\n  },\r\n  \"description\": \"Environment created from a Docker image plus Conda environment to train taxi model.\",\r\n  \"id\": \"azureml:/subscriptions/f9b97038-ed78-4a26-a1a7-51e81e75d867/resourceGroups/openaml/providers/Microsoft.MachineLearningServices/workspaces/nlp-workspace/environments/taxi-train-env/versions/3\",\r\n  \"image\": \"mcr.microsoft.com/azureml/openmpi3.1.2-ubuntu18.04\",\r\n  \"name\": \"taxi-train-env\",\r\n  \"os_type\": \"linux\",\r\n  \"resourceGroup\": \"openaml\",\r\n  \"tags\": {},\r\n  \"version\": \"3\"\r\n}\r\n\u001b[0m"
        }
      ],
      "execution_count": 3,
      "metadata": {
        "collapsed": false,
        "jupyter": {
          "outputs_hidden": false,
          "source_hidden": false
        },
        "nteract": {
          "transient": {
            "deleting": false
          }
        },
        "gather": {
          "logged": 1679374478531
        }
      }
    },
    {
      "cell_type": "markdown",
      "source": [
        "## 4. Create Pipeline Job\n",
        "\n",
        "**AML Job**:\n",
        "\n",
        "Azure ML provides several ways to train your models, from code-first solutions to low-code solutions:\n",
        "\n",
        "* Azure ML supports script files in python, R, Java, Julia or C#. All you need to learn is YAML format and command lines to use Azure ML.\n",
        "\n",
        "* Distributed Training: AML supports integrations with popular frameworks, PyTorch and TensorFlow. Both frameworks employ data parallelism & model parallelism for distributed training.\n",
        "\n",
        "* Automated ML - Train models without extensive data science or programming knowledge.\n",
        "\n",
        "* Designer - drag and drop web-based UI.\n",
        "\n",
        "<hr>\n",
        "\n",
        "We can submit a **job** with cli v2 or sdk v2 using the following syntax:\n",
        "\n",
        "<center>\n",
        "<img src=\"../../imgs/create_job.png\" width = \"700px\" alt=\"Create Job cli vs sdk\">\n",
        "</center>\n",
        "\n",
        "<br>\n",
        "    \n",
        "**AML Pipelines**:\n",
        "\n",
        "An AML pipeline is an independently executable workflow of a complete machine learning task. It helps standardizing the best practices of producing a machine learning model: The core of a machine learning pipeline is to split a complete machine learning task into a multistep workflow. Each step is a manageable component that can be developed, optimized, configured, and automated individually. \n",
        "\n",
        "<hr>\n",
        "\n",
        "We can submit a **pipeline job** with cli v2 or sdk v2 using the following syntax:\n",
        "\n",
        "<center>\n",
        "<img src=\"../../imgs/create_pipeline.png\" width = \"700px\" alt=\"Create Pipeline cli vs sdk\">\n",
        "</center>"
      ],
      "metadata": {
        "nteract": {
          "transient": {
            "deleting": false
          }
        },
        "tags": []
      }
    },
    {
      "cell_type": "code",
      "source": [
        "# Create pipeline job\n",
        "!az ml job create --file train/pipeline.yml"
      ],
      "outputs": [
        {
          "output_type": "stream",
          "name": "stdout",
          "text": "\u001b[32mUploading prep (0.0 MBs): 100%|██████████| 4728/4728 [00:00<00:00, 42767.91it/s]\u001b[0m\n\u001b[39m\n\n\u001b[32mUploading train (0.01 MBs): 100%|███████| 5728/5728 [00:00<00:00, 106791.42it/s]\u001b[0m\n\u001b[39m\n\n\u001b[32mUploading register (0.01 MBs): 100%|█████| 7647/7647 [00:00<00:00, 65394.90it/s]\u001b[0m\n\u001b[39m\n\n{\n  \"creation_context\": {\n    \"created_at\": \"2023-03-21T05:06:59.414882+00:00\",\n    \"created_by\": \"Elena Neroslavskaya\",\n    \"created_by_type\": \"User\"\n  },\n  \"description\": \"Training Pipeline to train a model that predicts taxi fare price\",\n  \"display_name\": \"serene_cartoon_xr5zyx9rqk\",\n  \"experiment_name\": \"taxi-training-pipeline\",\n  \"id\": \"azureml:/subscriptions/f9b97038-ed78-4a26-a1a7-51e81e75d867/resourceGroups/openaml/providers/Microsoft.MachineLearningServices/workspaces/nlp-workspace/jobs/serene_cartoon_xr5zyx9rqk\",\n  \"inputs\": {\n    \"enable_monitoring\": \"false\",\n    \"input\": {\n      \"mode\": \"ro_mount\",\n      \"path\": \"azureml:taxi-data:4\",\n      \"type\": \"uri_file\"\n    },\n    \"table_name\": \"taximonitoring\"\n  },\n  \"jobs\": {\n    \"evaluate_model\": {\n      \"component\": \"azureml:azureml_anonymous:720114e1-66ba-469d-879b-611f61934e04\",\n      \"inputs\": {\n        \"model_input\": {\n          \"path\": \"${{parent.jobs.train_model.outputs.model_output}}\"\n        },\n        \"model_name\": \"taxi-model\",\n        \"test_data\": {\n          \"path\": \"${{parent.jobs.prep_data.outputs.test_data}}\"\n        }\n      },\n      \"outputs\": {\n        \"evaluation_output\": \"${{parent.outputs.evaluation_output}}\"\n      },\n      \"type\": \"command\"\n    },\n    \"prep_data\": {\n      \"component\": \"azureml:azureml_anonymous:7968eefa-db14-4b74-a5cf-76d6290f90cb\",\n      \"inputs\": {\n        \"enable_monitoring\": {\n          \"path\": \"${{parent.inputs.enable_monitoring}}\"\n        },\n        \"raw_data\": {\n          \"path\": \"${{parent.inputs.input}}\"\n        },\n        \"table_name\": {\n          \"path\": \"${{parent.inputs.table_name}}\"\n        }\n      },\n      \"outputs\": {\n        \"test_data\": \"${{parent.outputs.test_data}}\",\n        \"train_data\": \"${{parent.outputs.train_data}}\",\n        \"val_data\": \"${{parent.outputs.val_data}}\"\n      },\n      \"type\": \"command\"\n    },\n    \"register_model\": {\n      \"component\": \"azureml:azureml_anonymous:a7806aa4-9e97-4a03-98a1-6351af97f80e\",\n      \"inputs\": {\n        \"evaluation_output\": {\n          \"path\": \"${{parent.jobs.evaluate_model.outputs.evaluation_output}}\"\n        },\n        \"model_name\": \"taxi-model\",\n        \"model_path\": {\n          \"path\": \"${{parent.jobs.train_model.outputs.model_output}}\"\n        }\n      },\n      \"outputs\": {\n        \"model_info_output_path\": \"${{parent.outputs.model_info_output_path}}\"\n      },\n      \"type\": \"command\"\n    },\n    \"train_model\": {\n      \"component\": \"azureml:azureml_anonymous:49c8360c-d964-475e-87f8-3da1155af43c\",\n      \"inputs\": {\n        \"train_data\": {\n          \"path\": \"${{parent.jobs.prep_data.outputs.train_data}}\"\n        }\n      },\n      \"outputs\": {\n        \"model_output\": \"${{parent.outputs.trained_model}}\"\n      },\n      \"type\": \"command\"\n    }\n  },\n  \"name\": \"serene_cartoon_xr5zyx9rqk\",\n  \"outputs\": {\n    \"evaluation_output\": {\n      \"mode\": \"rw_mount\",\n      \"type\": \"uri_folder\"\n    },\n    \"model_info_output_path\": {\n      \"mode\": \"rw_mount\",\n      \"type\": \"uri_folder\"\n    },\n    \"test_data\": {\n      \"mode\": \"rw_mount\",\n      \"type\": \"uri_folder\"\n    },\n    \"train_data\": {\n      \"mode\": \"rw_mount\",\n      \"type\": \"uri_folder\"\n    },\n    \"trained_model\": {\n      \"mode\": \"rw_mount\",\n      \"type\": \"uri_folder\"\n    },\n    \"val_data\": {\n      \"mode\": \"rw_mount\",\n      \"type\": \"uri_folder\"\n    }\n  },\n  \"properties\": {\n    \"azureml.DevPlatv2\": \"true\",\n    \"azureml.continue_on_failed_optional_input\": \"True\",\n    \"azureml.continue_on_step_failure\": \"False\",\n    \"azureml.defaultComputeName\": \"cpu-cluster\",\n    \"azureml.defaultDataStoreName\": \"workspaceblobstore\",\n    \"azureml.git.dirty\": \"True\",\n    \"azureml.parameters\": \"{\\\"enable_monitoring\\\":\\\"false\\\",\\\"table_name\\\":\\\"taximonitoring\\\"}\",\n    \"azureml.pipelineComponent\": \"pipelinerun\",\n    \"azureml.runsource\": \"azureml.PipelineRun\",\n    \"mlflow.source.git.branch\": \"main\",\n    \"mlflow.source.git.commit\": \"1c0dd38ad2eaa2223d6b0a06ae14440e83be93dd\",\n    \"mlflow.source.git.repoURL\": \"git@github.com:lenisha/mlops-v2-workshop.git\",\n    \"runSource\": \"MFE\",\n    \"runType\": \"HTTP\"\n  },\n  \"resourceGroup\": \"openaml\",\n  \"services\": {\n    \"Studio\": {\n      \"endpoint\": \"https://ml.azure.com/runs/serene_cartoon_xr5zyx9rqk?wsid=/subscriptions/f9b97038-ed78-4a26-a1a7-51e81e75d867/resourcegroups/openaml/workspaces/nlp-workspace&tid=4460d6c7-3cdd-4d85-bda4-87c85c98af04\",\n      \"job_service_type\": \"Studio\"\n    },\n    \"Tracking\": {\n      \"endpoint\": \"azureml://eastus2.api.azureml.ms/mlflow/v1.0/subscriptions/f9b97038-ed78-4a26-a1a7-51e81e75d867/resourceGroups/openaml/providers/Microsoft.MachineLearningServices/workspaces/nlp-workspace?\",\n      \"job_service_type\": \"Tracking\"\n    }\n  },\n  \"settings\": {\n    \"continue_on_step_failure\": false,\n    \"default_compute\": \"azureml:cpu-cluster\",\n    \"default_datastore\": \"azureml:workspaceblobstore\"\n  },\n  \"status\": \"Preparing\",\n  \"type\": \"pipeline\"\n}\n\u001b[0m"
        }
      ],
      "execution_count": 7,
      "metadata": {
        "collapsed": false,
        "jupyter": {
          "outputs_hidden": false,
          "source_hidden": false
        },
        "nteract": {
          "transient": {
            "deleting": false
          }
        },
        "gather": {
          "logged": 1679375220597
        }
      }
    },
    {
      "cell_type": "markdown",
      "source": [
        "# Online Endpoint\n",
        "\n",
        "Online endpoints are endpoints that are used for online (real-time) inferencing. They receive data from clients and can send responses back in real time.\n",
        "\n",
        "An **endpoint** is an HTTPS endpoint that clients can call to receive the inferencing (scoring) output of a trained model. It provides:\n",
        "* Authentication using \"key & token\" based auth\n",
        "* SSL termination\n",
        "* A stable scoring URI (endpoint-name.region.inference.ml.azure.com)\n",
        "\n",
        "A **deployment** is a set of resources required for hosting the model that does the actual inferencing.\n",
        "A single endpoint can contain multiple deployments.\n",
        "\n",
        "Features of the managed online endpoint:\n",
        "\n",
        "* **Test and deploy locally** for faster debugging\n",
        "* Traffic to one deployment can also be **mirrored** (copied) to another deployment.\n",
        "* **Application Insights integration**\n",
        "* Security\n",
        "* Authentication: Key and Azure ML Tokens\n",
        "* Automatic Autoscaling\n",
        "* Visual Studio Code debugging\n",
        "\n",
        "**blue-green deployment**: An approach where a new version of a web service is introduced to production by deploying it to a small subset of users/requests before deploying it fully.\n",
        "\n",
        "<center>\n",
        "<img src=\"../../imgs/endpoint_concept.png\" width = \"500px\" alt=\"Online Endpoint Concept cli vs sdk\">\n",
        "</center>"
      ],
      "metadata": {
        "nteract": {
          "transient": {
            "deleting": false
          }
        }
      }
    },
    {
      "cell_type": "markdown",
      "source": [
        "## 1. Create Online Endpoint\n",
        "\n",
        "We can create an **online endpoint** with cli v2 or sdk v2 using the following syntax:\n",
        "\n",
        "<center>\n",
        "<img src=\"../../imgs/create_online_endpoint.png\" width = \"700px\" alt=\"Create Online Endpoint cli vs sdk\">\n",
        "</center>"
      ],
      "metadata": {
        "nteract": {
          "transient": {
            "deleting": false
          }
        }
      }
    },
    {
      "cell_type": "code",
      "source": [
        "# create online endpoint\n",
        "!az ml online-endpoint create --file deploy/online/online-endpoint.yml"
      ],
      "outputs": [],
      "execution_count": null,
      "metadata": {
        "collapsed": false,
        "jupyter": {
          "outputs_hidden": false,
          "source_hidden": false
        },
        "nteract": {
          "transient": {
            "deleting": false
          }
        },
        "gather": {
          "logged": 1679375192888
        }
      }
    },
    {
      "cell_type": "markdown",
      "source": [
        "## 2. Create Online Deployment\n",
        "\n",
        "To create a deployment to online endpoint, you need to specify the following elements:\n",
        "\n",
        "* Model files (or specify a registered model in your workspace)\n",
        "* Scoring script - code needed to do scoring/inferencing\n",
        "* Environment - a Docker image with Conda dependencies, or a dockerfile\n",
        "* Compute instance & scale settings\n",
        "\n",
        "Note that if you're deploying **MLFlow models**, there's no need to provide **a scoring script** and execution **environment**, as both are autogenerated.\n",
        "\n",
        "We can create an **online deployment** with cli v2 or sdk v2 using the following syntax:\n",
        "\n",
        "<center>\n",
        "<img src=\"../../imgs/create_online_deployment.png\" width = \"700px\" alt=\"Create Online Deployment cli vs sdk\">\n",
        "</center>"
      ],
      "metadata": {}
    },
    {
      "cell_type": "code",
      "source": [
        "# create online deployment\n",
        "!az ml online-deployment create --file deploy/online/online-deployment.yml "
      ],
      "outputs": [
        {
          "output_type": "stream",
          "name": "stdout",
          "text": "Instance type Standard_DS2_v2 may be too small for compute resources. Minimum recommended compute SKU is Standard_DS3_v2 for general purpose endpoints. Learn more about SKUs here: https://learn.microsoft.com/en-us/azure/machine-learning/referencemanaged-online-endpoints-vm-sku-list\nCheck: endpoint taxi-online-endpoint exists\n\u001b[K{ \\ Finished ..\n  \"app_insights_enabled\": false,\n  \"egress_public_network_access\": \"enabled\",\n  \"endpoint_name\": \"taxi-online-endpoint\",\n  \"environment_variables\": {},\n  \"id\": \"/subscriptions/f9b97038-ed78-4a26-a1a7-51e81e75d867/resourceGroups/openaml/providers/Microsoft.MachineLearningServices/workspaces/nlp-workspace/onlineEndpoints/taxi-online-endpoint/deployments/blue\",\n  \"instance_count\": 1,\n  \"instance_type\": \"Standard_DS2_v2\",\n  \"liveness_probe\": {\n    \"failure_threshold\": 30,\n    \"initial_delay\": 10,\n    \"period\": 10,\n    \"success_threshold\": 1,\n    \"timeout\": 2\n  },\n  \"model\": \"azureml:/subscriptions/f9b97038-ed78-4a26-a1a7-51e81e75d867/resourceGroups/openaml/providers/Microsoft.MachineLearningServices/workspaces/nlp-workspace/models/taxi-model/versions/8\",\n  \"name\": \"blue\",\n  \"private_network_connection\": false,\n  \"properties\": {\n    \"AzureAsyncOperationUri\": \"https://management.azure.com/subscriptions/f9b97038-ed78-4a26-a1a7-51e81e75d867/providers/Microsoft.MachineLearningServices/locations/eastus2/mfeOperationsStatus/od:baa4dabf-18ba-45e2-8649-6d72d7082169:586f65a6-5c91-4cd4-9072-cc634a4f5ca3?api-version=2022-02-01-preview\"\n  },\n  \"provisioning_state\": \"Succeeded\",\n  \"readiness_probe\": {\n    \"failure_threshold\": 30,\n    \"initial_delay\": 10,\n    \"period\": 10,\n    \"success_threshold\": 1,\n    \"timeout\": 2\n  },\n  \"request_settings\": {\n    \"max_concurrent_requests_per_instance\": 1,\n    \"request_timeout_ms\": 5000\n  },\n  \"resourceGroup\": \"openaml\",\n  \"scale_settings\": {\n    \"type\": \"default\"\n  },\n  \"tags\": {},\n  \"type\": \"managed\"\n}\n\u001b[0m"
        }
      ],
      "execution_count": 8,
      "metadata": {
        "collapsed": false,
        "jupyter": {
          "outputs_hidden": false,
          "source_hidden": false
        },
        "nteract": {
          "transient": {
            "deleting": false
          }
        },
        "gather": {
          "logged": 1679376120583
        }
      }
    },
    {
      "cell_type": "markdown",
      "source": [
        "## 3. Allocate Traffic"
      ],
      "metadata": {}
    },
    {
      "cell_type": "code",
      "source": [
        "# allocate traffic\n",
        "!az ml online-endpoint update --name taxi-online-endpoint --traffic blue=100"
      ],
      "outputs": [
        {
          "output_type": "stream",
          "name": "stdout",
          "text": "\u001b[K{\\ Finished ..\n  \"auth_mode\": \"key\",\n  \"description\": \"taxi cost online endpoint\",\n  \"id\": \"/subscriptions/f9b97038-ed78-4a26-a1a7-51e81e75d867/resourceGroups/openaml/providers/Microsoft.MachineLearningServices/workspaces/nlp-workspace/onlineEndpoints/taxi-online-endpoint\",\n  \"identity\": {\n    \"principal_id\": \"5116b0cc-b84a-4eba-b638-f254f866380d\",\n    \"tenant_id\": \"4460d6c7-3cdd-4d85-bda4-87c85c98af04\",\n    \"type\": \"system_assigned\"\n  },\n  \"kind\": \"Managed\",\n  \"location\": \"eastus2\",\n  \"mirror_traffic\": {},\n  \"name\": \"taxi-online-endpoint\",\n  \"openapi_uri\": \"https://taxi-online-endpoint.eastus2.inference.ml.azure.com/swagger.json\",\n  \"properties\": {\n    \"AzureAsyncOperationUri\": \"https://management.azure.com/subscriptions/f9b97038-ed78-4a26-a1a7-51e81e75d867/providers/Microsoft.MachineLearningServices/locations/eastus2/mfeOperationsStatus/oe:baa4dabf-18ba-45e2-8649-6d72d7082169:11444eab-fab5-4fce-a114-3f7c20b690ed?api-version=2022-02-01-preview\",\n    \"azureml.onlineendpointid\": \"/subscriptions/f9b97038-ed78-4a26-a1a7-51e81e75d867/resourcegroups/openaml/providers/microsoft.machinelearningservices/workspaces/nlp-workspace/onlineendpoints/taxi-online-endpoint\"\n  },\n  \"provisioning_state\": \"Succeeded\",\n  \"public_network_access\": \"enabled\",\n  \"resourceGroup\": \"openaml\",\n  \"scoring_uri\": \"https://taxi-online-endpoint.eastus2.inference.ml.azure.com/score\",\n  \"tags\": {},\n  \"traffic\": {\n    \"blue\": 100\n  }\n}\n\u001b[0m"
        }
      ],
      "execution_count": 12,
      "metadata": {
        "gather": {
          "logged": 1679376596968
        }
      }
    },
    {
      "cell_type": "markdown",
      "source": [
        "## 4. Invoke and Test Endpoint\n",
        "\n",
        "We can invoke the **online deployment** with cli v2 or sdk v2 using the following syntax:\n",
        "\n",
        "<center>\n",
        "<img src=\"../../imgs/invoke_online_endpoint.png\" width = \"700px\" alt=\"Invoke online endpoint cli vs sdk\">\n",
        "</center>"
      ],
      "metadata": {}
    },
    {
      "cell_type": "code",
      "source": [
        "# invoke and test endpoint\n",
        "!az ml online-endpoint invoke --name taxi-online-endpoint --request-file ../../data/taxi-request.json"
      ],
      "outputs": [
        {
          "output_type": "stream",
          "name": "stdout",
          "text": "\"[11.80944548992718, 14.809152940432902]\"\r\n\u001b[0m"
        }
      ],
      "execution_count": 14,
      "metadata": {
        "gather": {
          "logged": 1679376615415
        }
      }
    },
    {
      "cell_type": "markdown",
      "source": [
        "# Model Batch Endpoint"
      ],
      "metadata": {}
    },
    {
      "cell_type": "markdown",
      "source": [
        "## 1. Create Batch Compute Cluster"
      ],
      "metadata": {}
    },
    {
      "cell_type": "code",
      "source": [
        "# create compute cluster to be used by batch cluster\n",
        "!az ml compute create -n batch-cluster --type amlcompute  --size \"STANDARD_DS12_V2\" --min-instances 0 --max-instances 3"
      ],
      "outputs": [
        {
          "output_type": "stream",
          "name": "stdout",
          "text": "\u001b[K{\\ Finished ..\n  \"enable_node_public_ip\": true,\n  \"id\": \"/subscriptions/f9b97038-ed78-4a26-a1a7-51e81e75d867/resourceGroups/openaml/providers/Microsoft.MachineLearningServices/workspaces/nlp-workspace/computes/batch-cluster\",\n  \"idle_time_before_scale_down\": 120,\n  \"location\": \"eastus2\",\n  \"max_instances\": 3,\n  \"min_instances\": 0,\n  \"name\": \"batch-cluster\",\n  \"network_settings\": {},\n  \"provisioning_state\": \"Succeeded\",\n  \"resourceGroup\": \"openaml\",\n  \"size\": \"STANDARD_DS12_V2\",\n  \"ssh_public_access_enabled\": true,\n  \"tier\": \"dedicated\",\n  \"type\": \"amlcompute\"\n}\n\u001b[0m"
        }
      ],
      "execution_count": 27,
      "metadata": {
        "gather": {
          "logged": 1679380486223
        }
      }
    },
    {
      "cell_type": "markdown",
      "source": [
        "## 2. Create Batch Endpoint\n",
        "\n",
        "We can create the **batch endpoint** with cli v2 or sdk v2 using the following syntax:\n",
        "\n",
        "\n",
        "<center>\n",
        "<img src=\"../../imgs/create_batch_endpoint.png\" width = \"700px\" alt=\"Create batch endpoint cli vs sdk\">\n",
        "</center>"
      ],
      "metadata": {}
    },
    {
      "cell_type": "code",
      "source": [
        "# create batch endpoint\n",
        "!az ml batch-endpoint create --file deploy/batch/batch-endpoint.yml"
      ],
      "outputs": [
        {
          "output_type": "stream",
          "name": "stdout",
          "text": "{\r\n  \"auth_mode\": \"aad_token\",\r\n  \"defaults\": {},\r\n  \"description\": \"taxi cost batch endpoint\",\r\n  \"id\": \"/subscriptions/f9b97038-ed78-4a26-a1a7-51e81e75d867/resourceGroups/openaml/providers/Microsoft.MachineLearningServices/workspaces/nlp-workspace/batchEndpoints/taxi-batch-endpoint\",\r\n  \"location\": \"eastus2\",\r\n  \"name\": \"taxi-batch-endpoint\",\r\n  \"properties\": {\r\n    \"AzureAsyncOperationUri\": \"https://management.azure.com/subscriptions/f9b97038-ed78-4a26-a1a7-51e81e75d867/providers/Microsoft.MachineLearningServices/locations/eastus2/mfeOperationsStatus/bebes:baa4dabf-18ba-45e2-8649-6d72d7082169:82989475-d462-4cf9-9502-9cf49add78ef?api-version=2022-05-01\",\r\n    \"BatchEndpointCreationApiVersion\": \"2022-05-01\",\r\n    \"azureml.onlineendpointid\": \"/subscriptions/f9b97038-ed78-4a26-a1a7-51e81e75d867/resourcegroups/openaml/providers/microsoft.machinelearningservices/workspaces/nlp-workspace/onlineendpoints/taxi-batch-endpoint\"\r\n  },\r\n  \"provisioning_state\": \"Succeeded\",\r\n  \"resourceGroup\": \"openaml\",\r\n  \"scoring_uri\": \"https://taxi-batch-endpoint.eastus2.inference.ml.azure.com/jobs\",\r\n  \"tags\": {}\r\n}\r\n\u001b[0m"
        }
      ],
      "execution_count": 28,
      "metadata": {
        "gather": {
          "logged": 1679380524940
        }
      }
    },
    {
      "cell_type": "markdown",
      "source": [
        "## 3. Create Batch Deployment\n",
        "\n",
        "We can create the **batch deployment** with cli v2 or sdk v2 using the following syntax:\n",
        "\n",
        "<center>\n",
        "<img src=\"../../imgs/create_batch_deployment.png\" width = \"700px\" alt=\"Create batch deployment cli vs sdk\">\n",
        "</center>\n",
        "\n",
        "Note that if you're deploying **MLFlow models**, there's no need to provide **a scoring script** and execution **environment**, as both are autogenerated."
      ],
      "metadata": {}
    },
    {
      "cell_type": "code",
      "source": [
        "# create batch deployment\n",
        "!az ml batch-deployment create --file deploy/batch/batch-deployment.yml --set-default"
      ],
      "outputs": [
        {
          "output_type": "stream",
          "name": "stdout",
          "text": "\u001b[K{\\ Finished .. ..\n  \"compute\": \"azureml:/subscriptions/f9b97038-ed78-4a26-a1a7-51e81e75d867/resourceGroups/openaml/providers/Microsoft.MachineLearningServices/workspaces/nlp-workspace/computes/batch-cluster\",\n  \"endpoint_name\": \"taxi-batch-endpoint\",\n  \"environment_variables\": {},\n  \"error_threshold\": -1,\n  \"id\": \"/subscriptions/f9b97038-ed78-4a26-a1a7-51e81e75d867/resourceGroups/openaml/providers/Microsoft.MachineLearningServices/workspaces/nlp-workspace/batchEndpoints/taxi-batch-endpoint/deployments/taxi-batch-dp\",\n  \"logging_level\": \"Info\",\n  \"max_concurrency_per_instance\": 2,\n  \"mini_batch_size\": 10,\n  \"model\": \"azureml:/subscriptions/f9b97038-ed78-4a26-a1a7-51e81e75d867/resourceGroups/openaml/providers/Microsoft.MachineLearningServices/workspaces/nlp-workspace/models/taxi-model/versions/8\",\n  \"name\": \"taxi-batch-dp\",\n  \"output_action\": \"append_row\",\n  \"output_file_name\": \"predictions.csv\",\n  \"properties\": {},\n  \"resourceGroup\": \"openaml\",\n  \"resources\": {\n    \"instance_count\": 1,\n    \"properties\": {}\n  },\n  \"retry_settings\": {\n    \"max_retries\": 3,\n    \"timeout\": 30\n  },\n  \"tags\": {}\n}\n\u001b[0m"
        }
      ],
      "execution_count": 31,
      "metadata": {
        "gather": {
          "logged": 1679381839901
        }
      }
    },
    {
      "cell_type": "markdown",
      "source": [
        "## 4. Invoke and Test Endpoint\n",
        "\n",
        "We can invoke the **batch deployment** with cli v2 or sdk v2 using the following syntax:\n",
        "\n",
        "<center>\n",
        "<img src=\"../../imgs/invoke_batch_deployment.png\" width = \"700px\" alt=\"Invoke batch deployment cli vs sdk\">\n",
        "</center>"
      ],
      "metadata": {}
    },
    {
      "cell_type": "code",
      "source": [
        "# invoke and test endpoint\n",
        "!az ml batch-endpoint invoke --name taxi-batch-endpoint --input ../../data/taxi-batch.csv --input-type uri_file"
      ],
      "outputs": [
        {
          "output_type": "stream",
          "name": "stdout",
          "text": "{\r\n  \"id\": \"/subscriptions/f9b97038-ed78-4a26-a1a7-51e81e75d867/resourceGroups/openaml/providers/Microsoft.MachineLearningServices/workspaces/nlp-workspace/batchEndpoints/taxi-batch-endpoint/deployments/taxi-batch-dp/jobs/c782e87c-0cbb-42dc-a142-727011bb0caf\",\r\n  \"name\": \"c782e87c-0cbb-42dc-a142-727011bb0caf\",\r\n  \"properties\": {\r\n    \"compute\": {\r\n      \"instanceCount\": null,\r\n      \"instanceType\": null,\r\n      \"isLocal\": false,\r\n      \"location\": null,\r\n      \"properties\": null,\r\n      \"target\": \"/subscriptions/f9b97038-ed78-4a26-a1a7-51e81e75d867/resourceGroups/openaml/providers/Microsoft.MachineLearningServices/workspaces/nlp-workspace/computes/batch-cluster\"\r\n    },\r\n    \"dataset\": null,\r\n    \"description\": null,\r\n    \"errorThreshold\": null,\r\n    \"inputData\": {\r\n      \"UriFile\": {\r\n        \"description\": null,\r\n        \"jobInputType\": \"UriFile\",\r\n        \"mode\": \"ReadOnlyMount\",\r\n        \"uri\": \"azureml://datastores/workspaceblobstore/paths/LocalUpload/302e01e039a1ad1550880d247661ddfe/taxi-batch.csv\"\r\n      }\r\n    },\r\n    \"interactionEndpoints\": {\r\n      \"Studio\": {\r\n        \"endpoint\": \"https://ml.azure.com/runs/c782e87c-0cbb-42dc-a142-727011bb0caf?wsid=/subscriptions/f9b97038-ed78-4a26-a1a7-51e81e75d867/resourcegroups/openaml/workspaces/nlp-workspace\",\r\n        \"jobEndpointType\": \"Studio\",\r\n        \"port\": null,\r\n        \"properties\": null\r\n      },\r\n      \"Tracking\": {\r\n        \"endpoint\": \"azureml://eastus2.api.azureml.ms/mlflow/v1.0/subscriptions/f9b97038-ed78-4a26-a1a7-51e81e75d867/resourceGroups/openaml/providers/Microsoft.MachineLearningServices/workspaces/nlp-workspace?\",\r\n        \"jobEndpointType\": \"Tracking\",\r\n        \"port\": null,\r\n        \"properties\": null\r\n      }\r\n    },\r\n    \"loggingLevel\": null,\r\n    \"maxConcurrencyPerInstance\": null,\r\n    \"miniBatchSize\": null,\r\n    \"name\": \"heroic_hat_mjf8f0w2\",\r\n    \"output\": {\r\n      \"datastoreId\": null,\r\n      \"path\": null\r\n    },\r\n    \"outputData\": null,\r\n    \"outputDataset\": null,\r\n    \"outputFileName\": null,\r\n    \"partitionKeys\": null,\r\n    \"properties\": {\r\n      \"azureml.continue_on_failed_optional_input\": \"False\",\r\n      \"azureml.continue_on_step_failure\": \"False\",\r\n      \"azureml.parameters\": \"{\\\"run_max_try\\\":\\\"3\\\",\\\"run_invocation_timeout\\\":\\\"30\\\",\\\"mini_batch_size\\\":\\\"10\\\",\\\"logging_level\\\":\\\"INFO\\\",\\\"process_count_per_node\\\":\\\"2\\\",\\\"legacy_model_job\\\":\\\"False\\\",\\\"NodeCount\\\":\\\"1\\\",\\\"append_row_file_name\\\":\\\"predictions.csv\\\"}\",\r\n      \"azureml.pipelineComponent\": \"pipelinerun\",\r\n      \"azureml.pipelineid\": \"2e9abf9c-a615-4ee6-b264-73746a4e6438\",\r\n      \"azureml.runsource\": \"azureml.PipelineRun\",\r\n      \"runSource\": \"Unavailable\",\r\n      \"runType\": \"HTTP\"\r\n    },\r\n    \"provisioningState\": \"Succeeded\",\r\n    \"retrySettings\": {\r\n      \"maxRetries\": 3,\r\n      \"timeout\": \"0:00:30\"\r\n    },\r\n    \"status\": \"Preparing\",\r\n    \"tags\": {\r\n      \"azureml.batchrun\": \"true\",\r\n      \"azureml.deploymentname\": \"taxi-batch-dp\",\r\n      \"inputType\": \"input_data\",\r\n      \"outputType\": \"output_data\"\r\n    }\r\n  },\r\n  \"resourceGroup\": \"openaml\",\r\n  \"systemData\": {\r\n    \"createdAt\": \"2023-03-21T06:57:23.534893+00:00\",\r\n    \"createdBy\": \"Elena Neroslavskaya\",\r\n    \"createdByType\": null,\r\n    \"lastModifiedAt\": \"2023-03-21T06:57:23.534893+00:00\",\r\n    \"lastModifiedBy\": \"Elena Neroslavskaya\",\r\n    \"lastModifiedByType\": null\r\n  },\r\n  \"type\": \"Microsoft.MachineLearningServices/workspaces/batchEndpoints/deployments/jobs\"\r\n}\r\n\u001b[0m"
        }
      ],
      "execution_count": 32,
      "metadata": {
        "gather": {
          "logged": 1679381844388
        }
      }
    }
  ],
  "metadata": {
    "kernel_info": {
      "name": "python38-azureml"
    },
    "kernelspec": {
      "name": "python38-azureml",
      "language": "python",
      "display_name": "Python 3.8 - AzureML"
    },
    "language_info": {
      "name": "python",
      "version": "3.8.5",
      "mimetype": "text/x-python",
      "codemirror_mode": {
        "name": "ipython",
        "version": 3
      },
      "pygments_lexer": "ipython3",
      "nbconvert_exporter": "python",
      "file_extension": ".py"
    },
    "nteract": {
      "version": "nteract-front-end@1.0.0"
    },
    "microsoft": {
      "ms_spell_check": {
        "ms_spell_check_language": "en"
      },
      "host": {
        "AzureML": {
          "notebookHasBeenCompleted": true
        }
      }
    }
  },
  "nbformat": 4,
  "nbformat_minor": 4
}